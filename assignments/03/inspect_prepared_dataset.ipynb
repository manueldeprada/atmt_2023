{
 "cells": [
  {
   "cell_type": "code",
   "execution_count": 3,
   "metadata": {},
   "outputs": [],
   "source": [
    "import pickle\n",
    "import os \n",
    "\n",
    "os.chdir('../..')\n",
    "\n"
   ]
  },
  {
   "cell_type": "code",
   "execution_count": 4,
   "metadata": {},
   "outputs": [
    {
     "data": {
      "text/plain": [
       "2"
      ]
     },
     "execution_count": 4,
     "metadata": {},
     "output_type": "execute_result"
    }
   ],
   "source": [
    "from seq2seq.data.dictionary import Dictionary\n",
    "src_dict = Dictionary.load(os.path.join(\"data/en-fr/prepared\", 'dict.en'))\n",
    "unk_idx = src_dict.unk_idx\n",
    "unk_idx"
   ]
  },
  {
   "cell_type": "code",
   "execution_count": 5,
   "metadata": {},
   "outputs": [
    {
     "name": "stdout",
     "output_type": "stream",
     "text": [
      "unk_count: 2212\n",
      "total_tokens: 91000\n",
      "unk_count/total_tokens: 0.024307692307692308\n"
     ]
    }
   ],
   "source": [
    "with open('data/en-fr/prepared/train.en', 'rb') as f:\n",
    "    train_en = pickle.load(f)\n",
    "\n",
    "# train is a list of ndarrays. \n",
    "# lets count the frecuency of the unk_idx\n",
    "unk_count = 0\n",
    "total_tokens = 0\n",
    "for array in train_en:\n",
    "    unk_count += (array == unk_idx).sum()\n",
    "    total_tokens += array.shape[0]\n",
    "\n",
    "print(f\"unk_count: {unk_count}\")\n",
    "print(f\"total_tokens: {total_tokens}\")\n",
    "print(f\"unk_count/total_tokens: {unk_count/total_tokens}\")\n",
    "\n"
   ]
  },
  {
   "cell_type": "code",
   "execution_count": 15,
   "metadata": {},
   "outputs": [
    {
     "name": "stdout",
     "output_type": "stream",
     "text": [
      "unk_count: 2\n",
      "total_tokens: 5337\n",
      "unk_count/total_tokens: 0.000374742376152426\n"
     ]
    }
   ],
   "source": [
    "with open('data/en-fr/sp/test.en', 'rb') as f:\n",
    "    test_en = pickle.load(f)\n",
    "\n",
    "# train is a list of ndarrays. \n",
    "# lets count the frecuency of the unk_idx\n",
    "unk_count = 0\n",
    "total_tokens = 0\n",
    "for array in test_en:\n",
    "    unk_count += (array == unk_idx).sum()\n",
    "    total_tokens += array.shape[0]\n",
    "\n",
    "print(f\"unk_count: {unk_count}\")\n",
    "print(f\"total_tokens: {total_tokens}\")\n",
    "print(f\"unk_count/total_tokens: {unk_count/total_tokens}\")"
   ]
  },
  {
   "cell_type": "code",
   "execution_count": 16,
   "metadata": {},
   "outputs": [
    {
     "name": "stdout",
     "output_type": "stream",
     "text": [
      "i: 213, array: tensor([  10,  142,  595, 3913,    2, 1665, 3973,  234, 3926,    1])\n",
      "is said fine farming <unk> belong Saharan being Giraffes\n",
      "i: 249, array: tensor([  59,  186, 3933,   98,   52,  118, 1523,  546,  173, 2611,   31,  269,\n",
      "        2016,    2, 3926,    1])\n",
      "no alone stretched never how man heat part life jack what small angles <unk> Giraffes\n"
     ]
    }
   ],
   "source": [
    "#find an example of a sentence with unk_idx\n",
    "for i, array in enumerate(test_en):\n",
    "    if (array == unk_idx).sum() > 0:\n",
    "        print(f\"i: {i}, array: {array}\")\n",
    "        #untokenize\n",
    "        print(src_dict.string(array))\n",
    "    "
   ]
  }
 ],
 "metadata": {
  "kernelspec": {
   "display_name": "Python 3",
   "language": "python",
   "name": "python3"
  },
  "language_info": {
   "codemirror_mode": {
    "name": "ipython",
    "version": 3
   },
   "file_extension": ".py",
   "mimetype": "text/x-python",
   "name": "python",
   "nbconvert_exporter": "python",
   "pygments_lexer": "ipython3",
   "version": "3.11.5"
  }
 },
 "nbformat": 4,
 "nbformat_minor": 2
}
